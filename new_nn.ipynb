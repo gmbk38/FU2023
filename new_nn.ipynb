{
 "cells": [
  {
   "cell_type": "code",
   "execution_count": 4,
   "metadata": {},
   "outputs": [],
   "source": [
    "import numpy as np"
   ]
  },
  {
   "cell_type": "code",
   "execution_count": 2,
   "metadata": {},
   "outputs": [
    {
     "name": "stdout",
     "output_type": "stream",
     "text": [
      "Accuracy: 0.85\n",
      "Precision: 0.8525715663646699\n",
      "Recall: 0.8495370370370371\n",
      "F1-score: 0.8500740452652679\n"
     ]
    }
   ],
   "source": [
    "import pandas as pd\n",
    "import torch\n",
    "import torch.nn as nn\n",
    "import torch.optim as optim\n",
    "from sklearn.metrics import accuracy_score, precision_score, recall_score, f1_score\n",
    "from sklearn.model_selection import train_test_split\n",
    "from sklearn.preprocessing import LabelEncoder\n",
    "\n",
    "# Загрузка данных\n",
    "data = pd.read_csv('data/root_cause_analysis.csv')\n",
    "X = data.iloc[:, 1:-1].values\n",
    "y = data.iloc[:, -1].values\n",
    "le = LabelEncoder()\n",
    "y = le.fit_transform(y)\n",
    "X_train, X_test, y_train, y_test = train_test_split(X, y, test_size=0.2, random_state=42)\n",
    "\n",
    "# Создание модели\n",
    "class Net(nn.Module):\n",
    "    def __init__(self):\n",
    "        super(Net, self).__init__()\n",
    "        self.fc1 = nn.Linear(7, 64)\n",
    "        self.fc2 = nn.Linear(64, 32)\n",
    "        self.fc3 = nn.Linear(32, 3)\n",
    "        self.relu = nn.ReLU()\n",
    "\n",
    "    def forward(self, x):\n",
    "        x = self.relu(self.fc1(x))\n",
    "        x = self.relu(self.fc2(x))\n",
    "        x = self.fc3(x)\n",
    "        return x\n",
    "\n",
    "net = Net()\n",
    "\n",
    "# Обучение модели\n",
    "criterion = nn.CrossEntropyLoss()\n",
    "optimizer = optim.Adam(net.parameters(), lr=0.001)\n",
    "for epoch in range(1000):\n",
    "    optimizer.zero_grad()\n",
    "    output = net(torch.tensor(X_train, dtype=torch.float))\n",
    "    loss = criterion(output, torch.tensor(y_train, dtype=torch.long))\n",
    "    loss.backward()\n",
    "    optimizer.step()\n",
    "\n",
    "# Оценка модели\n",
    "y_pred = torch.argmax(net(torch.tensor(X_test, dtype=torch.float)), dim=1).numpy()\n",
    "print('Accuracy:', accuracy_score(y_test, y_pred))\n",
    "print('Precision:', precision_score(y_test, y_pred, average='macro'))\n",
    "print('Recall:', recall_score(y_test, y_pred, average='macro'))\n",
    "print('F1-score:', f1_score(y_test, y_pred, average='macro'))\n"
   ]
  },
  {
   "cell_type": "code",
   "execution_count": 21,
   "metadata": {},
   "outputs": [
    {
     "name": "stdout",
     "output_type": "stream",
     "text": [
      "['MEMORY' 'DATABASE_ISSUE' 'DATABASE_ISSUE' 'NETWORK_DELAY' 'MEMORY']\n",
      "[[2.0287104e-04 9.9806029e-01 1.7368564e-03]\n",
      " [7.8804922e-01 2.1144931e-06 2.1194862e-01]\n",
      " [4.9989614e-01 4.9952051e-01 5.8345060e-04]\n",
      " [1.7901069e-03 4.4402668e-06 9.9820542e-01]\n",
      " [3.3635265e-04 9.9249929e-01 7.1643875e-03]]\n"
     ]
    }
   ],
   "source": [
    "import numpy as np\n",
    "\n",
    "new_data = np.array([\n",
    "    [0, 1, 0, 1, 1, 0, 1],  # MEMORY\n",
    "    [1, 0, 1, 0, 0, 1, 0],  # NETWORK_DELAY\n",
    "    [1, 1, 0, 0, 1, 0, 0],  # DATABASE_ISSUE\n",
    "    [0, 0, 1, 0, 1, 1, 0],  # NETWORK_DELAY\n",
    "    [0, 1, 0, 1, 0, 1, 0]   # MEMORY\n",
    "])\n",
    "\n",
    "# Применение модели к новым данным\n",
    "y_pred = torch.argmax(net(torch.tensor(new_data, dtype=torch.float)), dim=1).numpy()\n",
    "y_pred = le.inverse_transform(y_pred)\n",
    "print(y_pred)\n",
    "\n",
    "# Применение модели к новым данным и вывод вероятностей предсказаний\n",
    "y_pred_prob = torch.softmax(net(torch.tensor(new_data, dtype=torch.float)), dim=1).detach().numpy()\n",
    "print(y_pred_prob)\n",
    "\n"
   ]
  }
 ],
 "metadata": {
  "kernelspec": {
   "display_name": "Python 3",
   "language": "python",
   "name": "python3"
  },
  "language_info": {
   "codemirror_mode": {
    "name": "ipython",
    "version": 3
   },
   "file_extension": ".py",
   "mimetype": "text/x-python",
   "name": "python",
   "nbconvert_exporter": "python",
   "pygments_lexer": "ipython3",
   "version": "3.9.13"
  },
  "orig_nbformat": 4
 },
 "nbformat": 4,
 "nbformat_minor": 2
}
